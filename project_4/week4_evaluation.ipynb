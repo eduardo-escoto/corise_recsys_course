{
  "cells": [
    {
      "cell_type": "markdown",
      "metadata": {
        "colab_type": "text",
        "id": "view-in-github"
      },
      "source": [
        "<a href=\"https://colab.research.google.com/github/eduardo-exists/corise_recsys_course/blob/main/project_4/week4_evaluation.ipynb\" target=\"_parent\"><img src=\"https://colab.research.google.com/assets/colab-badge.svg\" alt=\"Open In Colab\"/></a>"
      ]
    },
    {
      "cell_type": "code",
      "execution_count": 1,
      "id": "837dcaa9-cc0b-4345-bbee-3a09683decf9",
      "metadata": {
        "id": "837dcaa9-cc0b-4345-bbee-3a09683decf9"
      },
      "outputs": [],
      "source": [
        "import numpy as np\n",
        "import pandas as pd\n",
        "from sklearn.metrics import dcg_score,ndcg_score\n",
        "from collections import OrderedDict"
      ]
    },
    {
      "cell_type": "markdown",
      "id": "41f1f7cb-9441-4fe1-962e-9e4cb3e3c192",
      "metadata": {
        "id": "41f1f7cb-9441-4fe1-962e-9e4cb3e3c192"
      },
      "source": [
        "# **Welcome to week 4 project!**\n",
        "\n",
        "Welcome to the last week of the course -- so excited to see that you've made it to the end! 👏 \n",
        "\n",
        "We’ve already discussed the importance of measuring model performance. As Lord Kelvin said, “To measure is to know – If you cannot measure it, you cannot improve it.” And he was right – metrics are the only way we can actually evaluate our model’s performance!\n",
        "\n",
        "In this week's project, we will touch upon two key aspects related to evaluation:\n",
        "1. Behavioral metrics\n",
        "2. Off-policy evaluation\n",
        "\n",
        "For behavioral metrics, we will work with Spotify music sessions dataset, and implement a few behavioral metrics and understand their relationships with traditional metrics.\n",
        "\n",
        "For off-policy evaluation, we will simulate a dataset where we have logged action policies, and see how IPS is implemented.\n"
      ]
    },
    {
      "cell_type": "markdown",
      "id": "6b7e1f07-9f25-4fbf-8c9f-cd0a2524ac12",
      "metadata": {
        "id": "6b7e1f07-9f25-4fbf-8c9f-cd0a2524ac12"
      },
      "source": [
        "### Goals for this week's project:\n",
        "\n",
        "For this week's project assignment, we will complete the following tasks:\n",
        "1. Implement 3 behavioral metrics and present the correlation plot for them\n",
        "2. Implement another ranking logic (e.g. sort by track popularity, or sort by danceability and compare all metrics on productional ranking logic and this new ranking logic.\n",
        "3. Complete the implementation of two off-policy estimators: Capped IPS and Normalized Capped Importance Sampling (NCIS)\n"
      ]
    },
    {
      "cell_type": "markdown",
      "id": "d0e01328-6834-4b11-85c1-03867e1d4860",
      "metadata": {
        "id": "d0e01328-6834-4b11-85c1-03867e1d4860",
        "tags": []
      },
      "source": [
        "# Part A: Behavioral metrics\n",
        "\n",
        "Behavioral metrics include factors like what items a user interacts with and how, the amount of time they spend on the platform, and how they spend that time.\n",
        "\n",
        "To define and implement a few behavioral metrics, we will work with the Spotify music sessions dataset.\n",
        "Download the dataset from GDrive: https://drive.google.com/drive/folders/10LGZMgXRuz2qPr_QDbYdVVlKEcnQ25YL?usp=sharing\n",
        "(files: log_mini.cvs and tf_mini.csv)\n",
        "\n",
        "## Spotify music sessions dataset\n",
        "\n",
        "The public part of the dataset consists of roughly 130 million listening sessions with associated user interactions on the Spotify service. In total, users interacted with almost 4 million tracks during these sessions, and the dataset includes acoustic features and metadata for all of these tracks.\n",
        "\n",
        "Detailed description of the dataset can be found here:\n",
        "https://drive.google.com/file/d/1BELTuH4nBeyHna5EAGzJv-HWHKrbxPsf/view?usp=sharing\n",
        "\n"
      ]
    },
    {
      "cell_type": "code",
      "execution_count": 2,
      "id": "XfSETB-PHhOl",
      "metadata": {
        "colab": {
          "base_uri": "https://localhost:8080/"
        },
        "id": "XfSETB-PHhOl",
        "outputId": "32eefc02-2645-474f-d60b-66752e2eeafb"
      },
      "outputs": [
        {
          "name": "stdout",
          "output_type": "stream",
          "text": [
            "Retrieving folder list\n",
            "Processing file 1_jFxa2s7ONQ7nrhqFc1lARP6WChs2T4e data1.txt\n",
            "Processing file 1rEJFi98sLUTYj50Fh8ff33A7NKOoT87c hmdata.zip\n",
            "Processing file 1D3RyRBKBaw0KbLxpJUQDjVIt5CLpE2n9 log_mini.csv\n",
            "Processing file 1BELTuH4nBeyHna5EAGzJv-HWHKrbxPsf Spotify-dataset-description.pdf\n",
            "Processing file 1Z8N0Xf9M34PuN4V5G5uAxasvOCm6TVp4 tf_mini.csv\n",
            "Retrieving folder list completed\n",
            "Building directory structure\n",
            "Building directory structure completed\n",
            "Downloading...\n",
            "From: https://drive.google.com/uc?id=1_jFxa2s7ONQ7nrhqFc1lARP6WChs2T4e\n",
            "To: /home/sable/Projects/corise/project_4/data/data1.txt\n",
            "100%|████████████████████████████████████████| 158M/158M [00:04<00:00, 34.6MB/s]\n",
            "Downloading...\n",
            "From: https://drive.google.com/uc?id=1rEJFi98sLUTYj50Fh8ff33A7NKOoT87c\n",
            "To: /home/sable/Projects/corise/project_4/data/hmdata.zip\n",
            "100%|████████████████████████████████████████| 773M/773M [00:20<00:00, 37.1MB/s]\n",
            "Downloading...\n",
            "From: https://drive.google.com/uc?id=1D3RyRBKBaw0KbLxpJUQDjVIt5CLpE2n9\n",
            "To: /home/sable/Projects/corise/project_4/data/log_mini.csv\n",
            "100%|██████████████████████████████████████| 28.9M/28.9M [00:01<00:00, 27.5MB/s]\n",
            "Downloading...\n",
            "From: https://drive.google.com/uc?id=1BELTuH4nBeyHna5EAGzJv-HWHKrbxPsf\n",
            "To: /home/sable/Projects/corise/project_4/data/Spotify-dataset-description.pdf\n",
            "100%|████████████████████████████████████████| 176k/176k [00:00<00:00, 2.55MB/s]\n",
            "Downloading...\n",
            "From: https://drive.google.com/uc?id=1Z8N0Xf9M34PuN4V5G5uAxasvOCm6TVp4\n",
            "To: /home/sable/Projects/corise/project_4/data/tf_mini.csv\n",
            "100%|██████████████████████████████████████| 28.0M/28.0M [00:01<00:00, 21.0MB/s]\n",
            "Download completed\n"
          ]
        }
      ],
      "source": [
        "!gdown --folder https://drive.google.com/drive/folders/10LGZMgXRuz2qPr_QDbYdVVlKEcnQ25YL -O ./"
      ]
    },
    {
      "cell_type": "code",
      "execution_count": 3,
      "id": "88eb3b58-062c-4c96-b3f0-2db4407ce1b3",
      "metadata": {
        "id": "88eb3b58-062c-4c96-b3f0-2db4407ce1b3"
      },
      "outputs": [],
      "source": [
        "log = pd.read_csv(\"data/log_mini.csv\")\n",
        "tracks = pd.read_csv(\"data/tf_mini.csv\")"
      ]
    },
    {
      "cell_type": "code",
      "execution_count": 4,
      "id": "4e67f877-5e02-4fe2-aa1f-20124fb9c465",
      "metadata": {
        "id": "4e67f877-5e02-4fe2-aa1f-20124fb9c465",
        "outputId": "cadb94d3-3185-40d4-b5fd-bd0f67960853"
      },
      "outputs": [
        {
          "data": {
            "text/html": [
              "<div>\n",
              "<style scoped>\n",
              "    .dataframe tbody tr th:only-of-type {\n",
              "        vertical-align: middle;\n",
              "    }\n",
              "\n",
              "    .dataframe tbody tr th {\n",
              "        vertical-align: top;\n",
              "    }\n",
              "\n",
              "    .dataframe thead th {\n",
              "        text-align: right;\n",
              "    }\n",
              "</style>\n",
              "<table border=\"1\" class=\"dataframe\">\n",
              "  <thead>\n",
              "    <tr style=\"text-align: right;\">\n",
              "      <th></th>\n",
              "      <th>session_id</th>\n",
              "      <th>session_position</th>\n",
              "      <th>session_length</th>\n",
              "      <th>track_id_clean</th>\n",
              "      <th>skip_1</th>\n",
              "      <th>skip_2</th>\n",
              "      <th>skip_3</th>\n",
              "      <th>not_skipped</th>\n",
              "      <th>context_switch</th>\n",
              "      <th>no_pause_before_play</th>\n",
              "      <th>...</th>\n",
              "      <th>long_pause_before_play</th>\n",
              "      <th>hist_user_behavior_n_seekfwd</th>\n",
              "      <th>hist_user_behavior_n_seekback</th>\n",
              "      <th>hist_user_behavior_is_shuffle</th>\n",
              "      <th>hour_of_day</th>\n",
              "      <th>date</th>\n",
              "      <th>premium</th>\n",
              "      <th>context_type</th>\n",
              "      <th>hist_user_behavior_reason_start</th>\n",
              "      <th>hist_user_behavior_reason_end</th>\n",
              "    </tr>\n",
              "  </thead>\n",
              "  <tbody>\n",
              "    <tr>\n",
              "      <th>0</th>\n",
              "      <td>0_00006f66-33e5-4de7-a324-2d18e439fc1e</td>\n",
              "      <td>1</td>\n",
              "      <td>20</td>\n",
              "      <td>t_0479f24c-27d2-46d6-a00c-7ec928f2b539</td>\n",
              "      <td>False</td>\n",
              "      <td>False</td>\n",
              "      <td>False</td>\n",
              "      <td>True</td>\n",
              "      <td>0</td>\n",
              "      <td>0</td>\n",
              "      <td>...</td>\n",
              "      <td>0</td>\n",
              "      <td>0</td>\n",
              "      <td>0</td>\n",
              "      <td>True</td>\n",
              "      <td>16</td>\n",
              "      <td>2018-07-15</td>\n",
              "      <td>True</td>\n",
              "      <td>editorial_playlist</td>\n",
              "      <td>trackdone</td>\n",
              "      <td>trackdone</td>\n",
              "    </tr>\n",
              "    <tr>\n",
              "      <th>1</th>\n",
              "      <td>0_00006f66-33e5-4de7-a324-2d18e439fc1e</td>\n",
              "      <td>2</td>\n",
              "      <td>20</td>\n",
              "      <td>t_9099cd7b-c238-47b7-9381-f23f2c1d1043</td>\n",
              "      <td>False</td>\n",
              "      <td>False</td>\n",
              "      <td>False</td>\n",
              "      <td>True</td>\n",
              "      <td>0</td>\n",
              "      <td>1</td>\n",
              "      <td>...</td>\n",
              "      <td>0</td>\n",
              "      <td>0</td>\n",
              "      <td>0</td>\n",
              "      <td>True</td>\n",
              "      <td>16</td>\n",
              "      <td>2018-07-15</td>\n",
              "      <td>True</td>\n",
              "      <td>editorial_playlist</td>\n",
              "      <td>trackdone</td>\n",
              "      <td>trackdone</td>\n",
              "    </tr>\n",
              "  </tbody>\n",
              "</table>\n",
              "<p>2 rows × 21 columns</p>\n",
              "</div>"
            ],
            "text/plain": [
              "                               session_id  session_position  session_length  \\\n",
              "0  0_00006f66-33e5-4de7-a324-2d18e439fc1e                 1              20   \n",
              "1  0_00006f66-33e5-4de7-a324-2d18e439fc1e                 2              20   \n",
              "\n",
              "                           track_id_clean  skip_1  skip_2  skip_3  \\\n",
              "0  t_0479f24c-27d2-46d6-a00c-7ec928f2b539   False   False   False   \n",
              "1  t_9099cd7b-c238-47b7-9381-f23f2c1d1043   False   False   False   \n",
              "\n",
              "   not_skipped  context_switch  no_pause_before_play  ...  \\\n",
              "0         True               0                     0  ...   \n",
              "1         True               0                     1  ...   \n",
              "\n",
              "   long_pause_before_play  hist_user_behavior_n_seekfwd  \\\n",
              "0                       0                             0   \n",
              "1                       0                             0   \n",
              "\n",
              "   hist_user_behavior_n_seekback  hist_user_behavior_is_shuffle  hour_of_day  \\\n",
              "0                              0                           True           16   \n",
              "1                              0                           True           16   \n",
              "\n",
              "         date premium        context_type hist_user_behavior_reason_start  \\\n",
              "0  2018-07-15    True  editorial_playlist                       trackdone   \n",
              "1  2018-07-15    True  editorial_playlist                       trackdone   \n",
              "\n",
              "  hist_user_behavior_reason_end  \n",
              "0                     trackdone  \n",
              "1                     trackdone  \n",
              "\n",
              "[2 rows x 21 columns]"
            ]
          },
          "execution_count": 4,
          "metadata": {},
          "output_type": "execute_result"
        }
      ],
      "source": [
        "log.head(2)"
      ]
    },
    {
      "cell_type": "code",
      "execution_count": 5,
      "id": "a0539616-fdd7-4cb5-920e-bddb315a9b5d",
      "metadata": {
        "id": "a0539616-fdd7-4cb5-920e-bddb315a9b5d",
        "outputId": "c94080bb-631a-4083-b060-209c7e588cb3"
      },
      "outputs": [
        {
          "data": {
            "text/html": [
              "<div>\n",
              "<style scoped>\n",
              "    .dataframe tbody tr th:only-of-type {\n",
              "        vertical-align: middle;\n",
              "    }\n",
              "\n",
              "    .dataframe tbody tr th {\n",
              "        vertical-align: top;\n",
              "    }\n",
              "\n",
              "    .dataframe thead th {\n",
              "        text-align: right;\n",
              "    }\n",
              "</style>\n",
              "<table border=\"1\" class=\"dataframe\">\n",
              "  <thead>\n",
              "    <tr style=\"text-align: right;\">\n",
              "      <th></th>\n",
              "      <th>track_id</th>\n",
              "      <th>duration</th>\n",
              "      <th>release_year</th>\n",
              "      <th>us_popularity_estimate</th>\n",
              "      <th>acousticness</th>\n",
              "      <th>beat_strength</th>\n",
              "      <th>bounciness</th>\n",
              "      <th>danceability</th>\n",
              "      <th>dyn_range_mean</th>\n",
              "      <th>energy</th>\n",
              "      <th>...</th>\n",
              "      <th>time_signature</th>\n",
              "      <th>valence</th>\n",
              "      <th>acoustic_vector_0</th>\n",
              "      <th>acoustic_vector_1</th>\n",
              "      <th>acoustic_vector_2</th>\n",
              "      <th>acoustic_vector_3</th>\n",
              "      <th>acoustic_vector_4</th>\n",
              "      <th>acoustic_vector_5</th>\n",
              "      <th>acoustic_vector_6</th>\n",
              "      <th>acoustic_vector_7</th>\n",
              "    </tr>\n",
              "  </thead>\n",
              "  <tbody>\n",
              "    <tr>\n",
              "      <th>0</th>\n",
              "      <td>t_a540e552-16d4-42f8-a185-232bd650ea7d</td>\n",
              "      <td>109.706673</td>\n",
              "      <td>1950</td>\n",
              "      <td>99.975414</td>\n",
              "      <td>0.458040</td>\n",
              "      <td>0.519497</td>\n",
              "      <td>0.504949</td>\n",
              "      <td>0.399767</td>\n",
              "      <td>7.511880</td>\n",
              "      <td>0.817709</td>\n",
              "      <td>...</td>\n",
              "      <td>4</td>\n",
              "      <td>0.935512</td>\n",
              "      <td>-0.033284</td>\n",
              "      <td>-0.411896</td>\n",
              "      <td>-0.02858</td>\n",
              "      <td>0.349438</td>\n",
              "      <td>0.832467</td>\n",
              "      <td>-0.213871</td>\n",
              "      <td>-0.299464</td>\n",
              "      <td>-0.675907</td>\n",
              "    </tr>\n",
              "    <tr>\n",
              "      <th>1</th>\n",
              "      <td>t_67965da0-132b-4b1e-8a69-0ef99b32287c</td>\n",
              "      <td>187.693329</td>\n",
              "      <td>1950</td>\n",
              "      <td>99.969430</td>\n",
              "      <td>0.916272</td>\n",
              "      <td>0.419223</td>\n",
              "      <td>0.545530</td>\n",
              "      <td>0.491235</td>\n",
              "      <td>9.098376</td>\n",
              "      <td>0.154258</td>\n",
              "      <td>...</td>\n",
              "      <td>3</td>\n",
              "      <td>0.359675</td>\n",
              "      <td>0.145703</td>\n",
              "      <td>-0.850372</td>\n",
              "      <td>0.12386</td>\n",
              "      <td>0.746904</td>\n",
              "      <td>0.371803</td>\n",
              "      <td>-0.420558</td>\n",
              "      <td>-0.213120</td>\n",
              "      <td>-0.525795</td>\n",
              "    </tr>\n",
              "  </tbody>\n",
              "</table>\n",
              "<p>2 rows × 30 columns</p>\n",
              "</div>"
            ],
            "text/plain": [
              "                                 track_id    duration  release_year  \\\n",
              "0  t_a540e552-16d4-42f8-a185-232bd650ea7d  109.706673          1950   \n",
              "1  t_67965da0-132b-4b1e-8a69-0ef99b32287c  187.693329          1950   \n",
              "\n",
              "   us_popularity_estimate  acousticness  beat_strength  bounciness  \\\n",
              "0               99.975414      0.458040       0.519497    0.504949   \n",
              "1               99.969430      0.916272       0.419223    0.545530   \n",
              "\n",
              "   danceability  dyn_range_mean    energy  ...  time_signature   valence  \\\n",
              "0      0.399767        7.511880  0.817709  ...               4  0.935512   \n",
              "1      0.491235        9.098376  0.154258  ...               3  0.359675   \n",
              "\n",
              "   acoustic_vector_0  acoustic_vector_1  acoustic_vector_2  acoustic_vector_3  \\\n",
              "0          -0.033284          -0.411896           -0.02858           0.349438   \n",
              "1           0.145703          -0.850372            0.12386           0.746904   \n",
              "\n",
              "  acoustic_vector_4  acoustic_vector_5  acoustic_vector_6  acoustic_vector_7  \n",
              "0          0.832467          -0.213871          -0.299464          -0.675907  \n",
              "1          0.371803          -0.420558          -0.213120          -0.525795  \n",
              "\n",
              "[2 rows x 30 columns]"
            ]
          },
          "execution_count": 5,
          "metadata": {},
          "output_type": "execute_result"
        }
      ],
      "source": [
        "tracks.head(2)"
      ]
    },
    {
      "cell_type": "markdown",
      "id": "aba926f1-1f49-4b9d-b358-b780132f0070",
      "metadata": {
        "id": "aba926f1-1f49-4b9d-b358-b780132f0070"
      },
      "source": [
        "### Traditional metrics: ndcg@k\n",
        "\n",
        "We will use the log dataframe as the main dataframe for evaluation of metrics. The skip_1 flag can be used as a relevance signal -- if the user found the recommendation relevant, skip_1 = False. With this relevance signal, we can compute simple ndcg metrics -- one for each session and then averaged across all sessions. This will serve as a base metric for comparison.\n",
        "\n",
        "Note: the ranking logic here is assumed to be the production ranker, i.e. sorting by session_position gives the exact order of tracks the Spotify ranker presented to the user.\n",
        "\n",
        "Lets compute simple skip rate and ndcg metric for the production ranker:"
      ]
    },
    {
      "cell_type": "code",
      "execution_count": 6,
      "id": "394f3143-545a-4f4f-a5c6-01e717b60371",
      "metadata": {
        "id": "394f3143-545a-4f4f-a5c6-01e717b60371",
        "outputId": "4f2b8d2b-5943-49b5-8d8d-1a38a39bf241"
      },
      "outputs": [
        {
          "name": "stdout",
          "output_type": "stream",
          "text": [
            "average skip rate in the session:  0.40894\n"
          ]
        }
      ],
      "source": [
        "topk = 10\n",
        "\n",
        "def calc_skip_rate(df_outer, position_feat = 'session_position', k = None, ret_raw_df = False):\n",
        "    def get_skip_rate(df):\n",
        "        if k:\n",
        "            df = df.nsmallest(k, [position_feat])\n",
        "        return df.skip_1.mean()\n",
        "    \n",
        "    if ret_raw_df:\n",
        "        return df_outer.groupby('session_id').apply(get_skip_rate)\n",
        "\n",
        "    return df_outer.groupby('session_id').apply(get_skip_rate).mean()\n",
        "\n",
        "\n",
        "skip_rate_session = calc_skip_rate(log, k = topk)\n",
        "print(\"average skip rate in the session: \",skip_rate_session)"
      ]
    },
    {
      "cell_type": "code",
      "execution_count": 7,
      "id": "c41ace73-6c5a-4bba-ac5e-06d1d270b70c",
      "metadata": {
        "id": "c41ace73-6c5a-4bba-ac5e-06d1d270b70c",
        "outputId": "2a0cc56d-1a57-4114-f939-02a5746d4a49"
      },
      "outputs": [
        {
          "name": "stdout",
          "output_type": "stream",
          "text": [
            "NDCG@k, with k=  10  is:  0.8330266041453142\n"
          ]
        }
      ],
      "source": [
        "topk = 10\n",
        "\n",
        "def calc_ndcg(df_outer, position_feat = 'session_position', k = None, ret_raw_df = False):\n",
        "\n",
        "    def get_ndcg(df):\n",
        "        if k:\n",
        "            df = df.nsmallest(k,[position_feat])\n",
        "\n",
        "        true_relevance = np.asarray(1-np.asarray(df['skip_1']*1.0))\n",
        "        ranker_scores = np.asarray(1/np.asarray(df['session_position'])) # approximate the ranker scores using the session position\n",
        "        return(ndcg_score([true_relevance], [ranker_scores]))\n",
        "\n",
        "\n",
        "    if ret_raw_df:\n",
        "        return df_outer.groupby('session_id').apply(get_ndcg)\n",
        "\n",
        "    return df_outer.groupby('session_id').apply(get_ndcg).mean()\n",
        "\n",
        "ndcg_metric = calc_ndcg(log, k = topk)\n",
        "print(\"NDCG@k, with k= \",topk,\" is: \",ndcg_metric)"
      ]
    },
    {
      "cell_type": "markdown",
      "id": "85f93877-750a-476d-b530-96659c5a8bd5",
      "metadata": {
        "id": "85f93877-750a-476d-b530-96659c5a8bd5"
      },
      "source": [
        "## Goals for this week:\n",
        "\n",
        "Implement a few behavioral metrics and compare their correlations. We will implement the following three metrics:\n",
        "1. *Time to first skip:* how long did it take for the user to get the first bad recommendation, i.e. a recommendation they skipped. Since we can't easily calculate time, we can use number of songs as a proxy and compute the metric as number of songs it took for the first skip.\n",
        "\n",
        "2. *Sustained dissatisfaction:* we assume that the user is dissatisfied in a sustained manner if they skip 3 songs consecutively.\n",
        "\n",
        "3. *Session coherence:* we define coherence as how similar the recommended musical tracks are. We can use the acoustic_vector of the music tracks to calculate the similarity."
      ]
    },
    {
      "cell_type": "code",
      "execution_count": 8,
      "id": "b8eba1c0-5ef0-40eb-9cbd-18df57607747",
      "metadata": {
        "id": "b8eba1c0-5ef0-40eb-9cbd-18df57607747"
      },
      "outputs": [],
      "source": [
        "# implement session metric 1: time to first skip (number of songs to first skip)]\n",
        "\n",
        "'''\n",
        "Skip columns is an array of what skip columns to check for a skip.\n",
        "Just does a logical or across all skip columns with the pandas broadcasting so its fast.\n",
        "Defaulting to only looking at \"skip_1\".\n",
        "'''\n",
        "def calc_time_to_first_skip(df_outer, position_feat = 'session_position', skip_cols=[1], k = None, ret_raw_df = False):\n",
        "    def time_to_first_skip(df):\n",
        "        if k is not None:\n",
        "            df = df.nsmallest(k,[position_feat])\n",
        "        \n",
        "        skip_list = [f\"skip_{x}\" for x in skip_cols]\n",
        "        skips_or = False\n",
        "        for skip in skip_list:\n",
        "            skips_or |= df[skip]\n",
        "\n",
        "        ttfs = df[skips_or][position_feat].min() \n",
        "\n",
        "        return pd.Series(\n",
        "            # [df[\"session_position\"].max() if np.isnan(ttfs) else ttfs], \n",
        "            [ttfs], \n",
        "            index=[\"ttf_skip\"]\n",
        "        )\n",
        "        # .astype(int)\n",
        "\n",
        "    if ret_raw_df:\n",
        "        return df_outer.groupby('session_id', as_index = False).apply(time_to_first_skip)\n",
        "\n",
        "    return df_outer.groupby('session_id').apply(time_to_first_skip)['ttf_skip'].mean()\n",
        "\n",
        "    \n",
        "# calc_time_to_first_skip(log)"
      ]
    },
    {
      "cell_type": "code",
      "execution_count": 9,
      "id": "469d871c",
      "metadata": {},
      "outputs": [
        {
          "data": {
            "text/html": [
              "<div>\n",
              "<style scoped>\n",
              "    .dataframe tbody tr th:only-of-type {\n",
              "        vertical-align: middle;\n",
              "    }\n",
              "\n",
              "    .dataframe tbody tr th {\n",
              "        vertical-align: top;\n",
              "    }\n",
              "\n",
              "    .dataframe thead th {\n",
              "        text-align: right;\n",
              "    }\n",
              "</style>\n",
              "<table border=\"1\" class=\"dataframe\">\n",
              "  <thead>\n",
              "    <tr style=\"text-align: right;\">\n",
              "      <th></th>\n",
              "      <th>session_id</th>\n",
              "      <th>ttf_skip</th>\n",
              "    </tr>\n",
              "  </thead>\n",
              "  <tbody>\n",
              "    <tr>\n",
              "      <th>0</th>\n",
              "      <td>0_00006f66-33e5-4de7-a324-2d18e439fc1e</td>\n",
              "      <td>7.0</td>\n",
              "    </tr>\n",
              "    <tr>\n",
              "      <th>1</th>\n",
              "      <td>0_0000a72b-09ac-412f-b452-9b9e79bded8f</td>\n",
              "      <td>2.0</td>\n",
              "    </tr>\n",
              "    <tr>\n",
              "      <th>2</th>\n",
              "      <td>0_00010fc5-b79e-4cdf-bc4c-f140d0f99a3a</td>\n",
              "      <td>2.0</td>\n",
              "    </tr>\n",
              "    <tr>\n",
              "      <th>3</th>\n",
              "      <td>0_00016a3d-9076-4f67-918f-f29e3ce160dc</td>\n",
              "      <td>1.0</td>\n",
              "    </tr>\n",
              "    <tr>\n",
              "      <th>4</th>\n",
              "      <td>0_00018b58-deb8-4f98-ac5e-d7e01b346130</td>\n",
              "      <td>4.0</td>\n",
              "    </tr>\n",
              "  </tbody>\n",
              "</table>\n",
              "</div>"
            ],
            "text/plain": [
              "                               session_id  ttf_skip\n",
              "0  0_00006f66-33e5-4de7-a324-2d18e439fc1e       7.0\n",
              "1  0_0000a72b-09ac-412f-b452-9b9e79bded8f       2.0\n",
              "2  0_00010fc5-b79e-4cdf-bc4c-f140d0f99a3a       2.0\n",
              "3  0_00016a3d-9076-4f67-918f-f29e3ce160dc       1.0\n",
              "4  0_00018b58-deb8-4f98-ac5e-d7e01b346130       4.0"
            ]
          },
          "execution_count": 9,
          "metadata": {},
          "output_type": "execute_result"
        }
      ],
      "source": [
        "first_skip_df = calc_time_to_first_skip(log, ret_raw_df=True)\n",
        "first_skip_df.head()"
      ]
    },
    {
      "cell_type": "code",
      "execution_count": 10,
      "id": "363b3b84",
      "metadata": {},
      "outputs": [],
      "source": [
        "def calc_skip_props(df):\n",
        "    skip_props = (\n",
        "        df[\"ttf_skip\"]\n",
        "        .value_counts()\n",
        "        .sort_index()\n",
        "        .reset_index()\n",
        "        .rename({\"index\": \"first_skip\", \"ttf_skip\": \"skip_count\"}, axis=1)\n",
        "        .astype(int)\n",
        "        .set_index(\"first_skip\")\n",
        "    )\n",
        "    skip_props[\"skip_prop\"] = skip_props[\"skip_count\"] / skip_props[\"skip_count\"].sum()\n",
        "    return skip_props\n"
      ]
    },
    {
      "cell_type": "code",
      "execution_count": 11,
      "id": "272b2715",
      "metadata": {},
      "outputs": [
        {
          "data": {
            "text/html": [
              "<div>\n",
              "<style scoped>\n",
              "    .dataframe tbody tr th:only-of-type {\n",
              "        vertical-align: middle;\n",
              "    }\n",
              "\n",
              "    .dataframe tbody tr th {\n",
              "        vertical-align: top;\n",
              "    }\n",
              "\n",
              "    .dataframe thead th {\n",
              "        text-align: right;\n",
              "    }\n",
              "</style>\n",
              "<table border=\"1\" class=\"dataframe\">\n",
              "  <thead>\n",
              "    <tr style=\"text-align: right;\">\n",
              "      <th></th>\n",
              "      <th>skip_count</th>\n",
              "      <th>skip_prop</th>\n",
              "    </tr>\n",
              "    <tr>\n",
              "      <th>first_skip</th>\n",
              "      <th></th>\n",
              "      <th></th>\n",
              "    </tr>\n",
              "  </thead>\n",
              "  <tbody>\n",
              "    <tr>\n",
              "      <th>1</th>\n",
              "      <td>2631</td>\n",
              "      <td>0.279210</td>\n",
              "    </tr>\n",
              "    <tr>\n",
              "      <th>2</th>\n",
              "      <td>1787</td>\n",
              "      <td>0.189642</td>\n",
              "    </tr>\n",
              "    <tr>\n",
              "      <th>3</th>\n",
              "      <td>1239</td>\n",
              "      <td>0.131487</td>\n",
              "    </tr>\n",
              "    <tr>\n",
              "      <th>4</th>\n",
              "      <td>862</td>\n",
              "      <td>0.091478</td>\n",
              "    </tr>\n",
              "    <tr>\n",
              "      <th>5</th>\n",
              "      <td>671</td>\n",
              "      <td>0.071209</td>\n",
              "    </tr>\n",
              "    <tr>\n",
              "      <th>6</th>\n",
              "      <td>490</td>\n",
              "      <td>0.052000</td>\n",
              "    </tr>\n",
              "    <tr>\n",
              "      <th>7</th>\n",
              "      <td>378</td>\n",
              "      <td>0.040115</td>\n",
              "    </tr>\n",
              "    <tr>\n",
              "      <th>8</th>\n",
              "      <td>297</td>\n",
              "      <td>0.031519</td>\n",
              "    </tr>\n",
              "    <tr>\n",
              "      <th>9</th>\n",
              "      <td>251</td>\n",
              "      <td>0.026637</td>\n",
              "    </tr>\n",
              "    <tr>\n",
              "      <th>10</th>\n",
              "      <td>223</td>\n",
              "      <td>0.023665</td>\n",
              "    </tr>\n",
              "    <tr>\n",
              "      <th>11</th>\n",
              "      <td>135</td>\n",
              "      <td>0.014327</td>\n",
              "    </tr>\n",
              "    <tr>\n",
              "      <th>12</th>\n",
              "      <td>99</td>\n",
              "      <td>0.010506</td>\n",
              "    </tr>\n",
              "    <tr>\n",
              "      <th>13</th>\n",
              "      <td>72</td>\n",
              "      <td>0.007641</td>\n",
              "    </tr>\n",
              "    <tr>\n",
              "      <th>14</th>\n",
              "      <td>68</td>\n",
              "      <td>0.007216</td>\n",
              "    </tr>\n",
              "    <tr>\n",
              "      <th>15</th>\n",
              "      <td>60</td>\n",
              "      <td>0.006367</td>\n",
              "    </tr>\n",
              "    <tr>\n",
              "      <th>16</th>\n",
              "      <td>49</td>\n",
              "      <td>0.005200</td>\n",
              "    </tr>\n",
              "    <tr>\n",
              "      <th>17</th>\n",
              "      <td>40</td>\n",
              "      <td>0.004245</td>\n",
              "    </tr>\n",
              "    <tr>\n",
              "      <th>18</th>\n",
              "      <td>20</td>\n",
              "      <td>0.002122</td>\n",
              "    </tr>\n",
              "    <tr>\n",
              "      <th>19</th>\n",
              "      <td>28</td>\n",
              "      <td>0.002971</td>\n",
              "    </tr>\n",
              "    <tr>\n",
              "      <th>20</th>\n",
              "      <td>23</td>\n",
              "      <td>0.002441</td>\n",
              "    </tr>\n",
              "  </tbody>\n",
              "</table>\n",
              "</div>"
            ],
            "text/plain": [
              "            skip_count  skip_prop\n",
              "first_skip                       \n",
              "1                 2631   0.279210\n",
              "2                 1787   0.189642\n",
              "3                 1239   0.131487\n",
              "4                  862   0.091478\n",
              "5                  671   0.071209\n",
              "6                  490   0.052000\n",
              "7                  378   0.040115\n",
              "8                  297   0.031519\n",
              "9                  251   0.026637\n",
              "10                 223   0.023665\n",
              "11                 135   0.014327\n",
              "12                  99   0.010506\n",
              "13                  72   0.007641\n",
              "14                  68   0.007216\n",
              "15                  60   0.006367\n",
              "16                  49   0.005200\n",
              "17                  40   0.004245\n",
              "18                  20   0.002122\n",
              "19                  28   0.002971\n",
              "20                  23   0.002441"
            ]
          },
          "execution_count": 11,
          "metadata": {},
          "output_type": "execute_result"
        }
      ],
      "source": [
        "calc_skip_props(first_skip_df)\n"
      ]
    },
    {
      "cell_type": "code",
      "execution_count": 12,
      "id": "6dbb5af7",
      "metadata": {},
      "outputs": [],
      "source": [
        "from itertools import chain, combinations\n",
        "\n",
        "def powerset(iterable):\n",
        "    \"powerset([1,2,3]) --> () (1,) (2,) (3,) (1,2) (1,3) (2,3) (1,2,3)\"\n",
        "    s = list(iterable)\n",
        "    return list(chain.from_iterable(combinations(s, r) for r in range(1, len(s)+1)))\n",
        "\n",
        "skip_combinations = powerset([1,2,3])"
      ]
    },
    {
      "cell_type": "code",
      "execution_count": 13,
      "id": "f185691a",
      "metadata": {},
      "outputs": [],
      "source": [
        "ttfs_combinations = dict(list(zip(\n",
        "    skip_combinations,\n",
        "    [calc_time_to_first_skip(log, skip_cols = skip_comb, ret_raw_df=True) for skip_comb in skip_combinations]\n",
        ")))"
      ]
    },
    {
      "cell_type": "code",
      "execution_count": 14,
      "id": "8a6d7ce5",
      "metadata": {},
      "outputs": [
        {
          "name": "stdout",
          "output_type": "stream",
          "text": [
            "Skip Column Combination: (1,): 3.9746365276451234\n",
            "Skip Column Combination: (2,): 3.1927\n",
            "Skip Column Combination: (3,): 2.0755\n",
            "Skip Column Combination: (1, 2): 3.1927\n",
            "Skip Column Combination: (1, 3): 2.0755\n",
            "Skip Column Combination: (2, 3): 2.0755\n",
            "Skip Column Combination: (1, 2, 3): 2.0755\n"
          ]
        }
      ],
      "source": [
        "for ttfs in ttfs_combinations:\n",
        "    print(f\"Skip Column Combination: {ttfs}: {ttfs_combinations[ttfs]['ttf_skip'].mean()}\")\n",
        "# Note the heirarchy of skip levels, since we're logically or-ing 3 is going to be the defining column for anything with 3\n",
        "# Just gonna calc with using each column only"
      ]
    },
    {
      "cell_type": "code",
      "execution_count": 15,
      "id": "4341ebab",
      "metadata": {},
      "outputs": [],
      "source": [
        "skip_combinations =  [1, 2, 3]\n",
        "\n",
        "ttfs_combinations = dict(list(zip(\n",
        "    skip_combinations,\n",
        "    [calc_time_to_first_skip(log, skip_cols = [skip_comb], ret_raw_df=True) for skip_comb in skip_combinations]\n",
        ")))"
      ]
    },
    {
      "cell_type": "code",
      "execution_count": 16,
      "id": "09c97bef",
      "metadata": {},
      "outputs": [
        {
          "name": "stdout",
          "output_type": "stream",
          "text": [
            "Skip Column Combination: 1: 3.9746365276451234\n",
            "Skip Column Combination: 2: 3.1927\n",
            "Skip Column Combination: 3: 2.0755\n"
          ]
        }
      ],
      "source": [
        "for ttfs in ttfs_combinations:\n",
        "    print(f\"Skip Column Combination: {ttfs}: {ttfs_combinations[ttfs]['ttf_skip'].mean()}\")"
      ]
    },
    {
      "cell_type": "code",
      "execution_count": 17,
      "id": "cbd11f07",
      "metadata": {},
      "outputs": [],
      "source": [
        "import matplotlib.pyplot as plt"
      ]
    },
    {
      "cell_type": "markdown",
      "id": "35219aee",
      "metadata": {},
      "source": [
        "## Time to first skip\n",
        "We can see an exponential distribution for the skip, with the different skip levels having their own distribution.\n",
        "Skip level 3, which is listening to most of the song before skipping, has the highest initial drop off, where as skip level 1, is much more gradual"
      ]
    },
    {
      "cell_type": "code",
      "execution_count": 18,
      "id": "465ee337",
      "metadata": {},
      "outputs": [
        {
          "data": {
            "image/png": "[encoded data removed]",
            "text/plain": [
              "<Figure size 432x288 with 1 Axes>"
            ]
          },
          "metadata": {
            "needs_background": "light"
          },
          "output_type": "display_data"
        }
      ],
      "source": [
        "ttfs_props_by_col = dict(list(zip(ttfs_combinations, [calc_skip_props(ttfs_combinations[ttfs]) for ttfs in ttfs_combinations])))\n",
        "\n",
        "for ttfs in ttfs_props_by_col:\n",
        "    plt.plot(ttfs_props_by_col[ttfs].index, ttfs_props_by_col[ttfs]['skip_prop'], marker = 'o', label = ttfs)    \n",
        "plt.title('Proportion of Time to first skip by skip column')\n",
        "plt.ylabel('Proportion')\n",
        "plt.xlabel('Time to first skip')\n",
        "plt.xticks(ttfs_props_by_col[ttfs].index)\n",
        "plt.legend();"
      ]
    },
    {
      "cell_type": "code",
      "execution_count": 19,
      "id": "aabd3d1a-8710-4883-88f5-bf3f926ebba3",
      "metadata": {
        "id": "aabd3d1a-8710-4883-88f5-bf3f926ebba3"
      },
      "outputs": [
        {
          "name": "stdout",
          "output_type": "stream",
          "text": [
            "Sustained Dissatisfaction Ratio: 0.6543\n"
          ]
        }
      ],
      "source": [
        "# implement session metric 2: sustained dissatisfaction: proportions of sessions with 3 consecutive skips\n",
        "\n",
        "# Interesting thing to note: (k - 1) + (k) + (k + 1) = 3k for all k in Z_+\n",
        "# In other words any sequence of 3 consecutive integers has k = [(k - 1) + (k) + (k + 1)] / 3\n",
        "# Example: (1 + 2 + 3) / 3 = 2\n",
        "# On second thought tho, this property isnt unique to consecutive integers so this won't work for this :/\n",
        "\n",
        "\n",
        "def calc_is_sustained_dissatisfaction(df_outer, position_feat = 'session_position', skip_level=1, k=None, ret_raw_df = False):\n",
        "    def is_sustained_dissatisfaction(df):\n",
        "        if k is not None:\n",
        "            df = df.nsmallest(k, [position_feat])\n",
        "\n",
        "        df[\"last_skip\"] = df[f\"skip_{skip_level}\"].shift(1)\n",
        "        df[\"next_skip\"] = df[f\"skip_{skip_level}\"].shift(-1)\n",
        "\n",
        "        return pd.Series(\n",
        "            [\n",
        "                (df[\"last_skip\"] & df[f\"skip_{skip_level}\"] & df[\"next_skip\"])\n",
        "                .iloc[\n",
        "                    1:-1\n",
        "                ]  # ignore first and last rows since they will have nans due to shifting up and down\n",
        "                .max()\n",
        "            ],\n",
        "            index=[\"sust_dis\"],\n",
        "        )\n",
        "\n",
        "    if ret_raw_df:\n",
        "        return df_outer.groupby(\"session_id\", as_index=False).apply(is_sustained_dissatisfaction)\n",
        "\n",
        "    return (\n",
        "        df_outer.groupby(\"session_id\", as_index=False)\n",
        "        .apply(is_sustained_dissatisfaction)[\"sust_dis\"]\n",
        "        .mean()\n",
        "    )\n",
        "\n",
        "\n",
        "print(f\"Sustained Dissatisfaction Ratio: {calc_is_sustained_dissatisfaction(log)}\")\n"
      ]
    },
    {
      "cell_type": "code",
      "execution_count": 20,
      "id": "5f41f788-daf7-44a4-9612-178f190e58bd",
      "metadata": {
        "id": "5f41f788-daf7-44a4-9612-178f190e58bd"
      },
      "outputs": [
        {
          "name": "stdout",
          "output_type": "stream",
          "text": [
            "Average Similarity: 0.1902840837987939\n"
          ]
        }
      ],
      "source": [
        "# implement session metric 3: session coherence: average similarity between the top recommended tracks\n",
        "\n",
        "acoustic_vecs = [col for col in list(tracks.columns) if 'acoustic_vector' in col]\n",
        "\n",
        "def calc_average_similarity(df_outer, df_tracks, position_feat = 'session_position', k = None, ret_raw_df = False):\n",
        "    tracks_logs = pd.merge(\n",
        "        df_outer, df_tracks,\n",
        "        left_on='track_id_clean', right_on='track_id'\n",
        "    )\n",
        "\n",
        "\n",
        "    def average_similarity(df):\n",
        "        from scipy.spatial.distance import pdist\n",
        "\n",
        "        if k is not None:\n",
        "            df = df.nsmallest(k,[position_feat])\n",
        "\n",
        "        return pd.Series([pdist(df[acoustic_vecs].to_numpy(), metric='cosine').mean()], index = ['avg_cosine_sim'])\n",
        "    \n",
        "    if ret_raw_df:\n",
        "        return tracks_logs.groupby('session_id', as_index=False).apply(average_similarity) \n",
        "\n",
        "\n",
        "    return tracks_logs.groupby('session_id', as_index=False).apply(average_similarity)['avg_cosine_sim'].mean()\n",
        "\n",
        "ac_tracks = tracks[['track_id', *acoustic_vecs]]\n",
        "print(f\"Average Similarity: {calc_average_similarity(log, ac_tracks, k = None)}\")\n",
        "    "
      ]
    },
    {
      "cell_type": "markdown",
      "id": "26c7ffa6-2c35-45c0-9d6d-78ab11f30632",
      "metadata": {
        "id": "26c7ffa6-2c35-45c0-9d6d-78ab11f30632"
      },
      "source": [
        "Once these metrics are implemented, compute these metrics for topk=5 and topk=10 compare their estimates for the production ranker as a correlation plot. Please note which metrics are correlated with ndcg metric.\n"
      ]
    },
    {
      "cell_type": "code",
      "execution_count": 21,
      "id": "0f897a79",
      "metadata": {},
      "outputs": [],
      "source": [
        "def get_all_metrics(log_df, track_df, k, position_feat = 'session_position'):\n",
        "    metric_list = [\n",
        "        lambda top_k: calc_ndcg(log_df, k=top_k, position_feat=position_feat),\n",
        "        lambda top_k: calc_skip_rate(log_df, k=top_k, position_feat=position_feat),\n",
        "        lambda top_k: calc_time_to_first_skip(log_df, k=top_k, position_feat=position_feat),\n",
        "        lambda top_k: calc_is_sustained_dissatisfaction(log_df, k=top_k, position_feat=position_feat),\n",
        "        lambda top_k: calc_average_similarity(log_df, track_df, k=top_k, position_feat=position_feat),\n",
        "    ]\n",
        "    metric_labels = ['ndcg', 'skip_rate', 'time_to_first_skip', 'sustained_dissatisfaction', 'average_similarity']\n",
        "\n",
        "    return pd.Series([k, *[func(k) for func in metric_list]], index = ['k', *metric_labels])\n",
        "    \n"
      ]
    },
    {
      "cell_type": "code",
      "execution_count": 22,
      "id": "ee602c64",
      "metadata": {},
      "outputs": [],
      "source": [
        "calced_metrics = [get_all_metrics(log, ac_tracks, k) for k in [3, 5, 10, 15, 18]]\n"
      ]
    },
    {
      "cell_type": "code",
      "execution_count": 23,
      "id": "78212e9e",
      "metadata": {},
      "outputs": [
        {
          "data": {
            "text/html": [
              "<div>\n",
              "<style scoped>\n",
              "    .dataframe tbody tr th:only-of-type {\n",
              "        vertical-align: middle;\n",
              "    }\n",
              "\n",
              "    .dataframe tbody tr th {\n",
              "        vertical-align: top;\n",
              "    }\n",
              "\n",
              "    .dataframe thead th {\n",
              "        text-align: right;\n",
              "    }\n",
              "</style>\n",
              "<table border=\"1\" class=\"dataframe\">\n",
              "  <thead>\n",
              "    <tr style=\"text-align: right;\">\n",
              "      <th></th>\n",
              "      <th>ndcg</th>\n",
              "      <th>skip_rate</th>\n",
              "      <th>time_to_first_skip</th>\n",
              "      <th>sustained_dissatisfaction</th>\n",
              "      <th>average_similarity</th>\n",
              "    </tr>\n",
              "    <tr>\n",
              "      <th>k</th>\n",
              "      <th></th>\n",
              "      <th></th>\n",
              "      <th></th>\n",
              "      <th></th>\n",
              "      <th></th>\n",
              "    </tr>\n",
              "  </thead>\n",
              "  <tbody>\n",
              "    <tr>\n",
              "      <th>3</th>\n",
              "      <td>0.808053</td>\n",
              "      <td>0.340933</td>\n",
              "      <td>1.753933</td>\n",
              "      <td>0.1389</td>\n",
              "      <td>0.175065</td>\n",
              "    </tr>\n",
              "    <tr>\n",
              "      <th>5</th>\n",
              "      <td>0.823570</td>\n",
              "      <td>0.377500</td>\n",
              "      <td>2.326147</td>\n",
              "      <td>0.2964</td>\n",
              "      <td>0.176586</td>\n",
              "    </tr>\n",
              "    <tr>\n",
              "      <th>10</th>\n",
              "      <td>0.833027</td>\n",
              "      <td>0.408940</td>\n",
              "      <td>3.304565</td>\n",
              "      <td>0.5238</td>\n",
              "      <td>0.182588</td>\n",
              "    </tr>\n",
              "    <tr>\n",
              "      <th>15</th>\n",
              "      <td>0.833890</td>\n",
              "      <td>0.411178</td>\n",
              "      <td>3.739285</td>\n",
              "      <td>0.6164</td>\n",
              "      <td>0.187245</td>\n",
              "    </tr>\n",
              "    <tr>\n",
              "      <th>18</th>\n",
              "      <td>0.834113</td>\n",
              "      <td>0.410847</td>\n",
              "      <td>3.890418</td>\n",
              "      <td>0.6417</td>\n",
              "      <td>0.189020</td>\n",
              "    </tr>\n",
              "  </tbody>\n",
              "</table>\n",
              "</div>"
            ],
            "text/plain": [
              "        ndcg  skip_rate  time_to_first_skip  sustained_dissatisfaction  \\\n",
              "k                                                                        \n",
              "3   0.808053   0.340933            1.753933                     0.1389   \n",
              "5   0.823570   0.377500            2.326147                     0.2964   \n",
              "10  0.833027   0.408940            3.304565                     0.5238   \n",
              "15  0.833890   0.411178            3.739285                     0.6164   \n",
              "18  0.834113   0.410847            3.890418                     0.6417   \n",
              "\n",
              "    average_similarity  \n",
              "k                       \n",
              "3             0.175065  \n",
              "5             0.176586  \n",
              "10            0.182588  \n",
              "15            0.187245  \n",
              "18            0.189020  "
            ]
          },
          "execution_count": 23,
          "metadata": {},
          "output_type": "execute_result"
        }
      ],
      "source": [
        "calced_metrics_df = pd.concat(calced_metrics, axis=1).T\n",
        "calced_metrics_df['k'] = calced_metrics_df['k'].astype(int) \n",
        "calced_metrics_df.set_index('k', inplace=True)\n",
        "calced_metrics_df"
      ]
    },
    {
      "cell_type": "code",
      "execution_count": 24,
      "id": "b77fd238",
      "metadata": {},
      "outputs": [
        {
          "data": {
            "text/plain": [
              "skip_rate                    0.996848\n",
              "time_to_first_skip           0.941318\n",
              "sustained_dissatisfaction    0.956418\n",
              "average_similarity           0.859405\n",
              "Name: ndcg, dtype: float64"
            ]
          },
          "execution_count": 24,
          "metadata": {},
          "output_type": "execute_result"
        }
      ],
      "source": [
        "calced_metrics_df.corr().loc['ndcg', ['skip_rate', 'time_to_first_skip', 'sustained_dissatisfaction', 'average_similarity']]"
      ]
    },
    {
      "cell_type": "markdown",
      "id": "ceec3b6f",
      "metadata": {},
      "source": [
        "Skip rate seems to be the most correlated!"
      ]
    },
    {
      "cell_type": "markdown",
      "id": "8a20f8b2",
      "metadata": {},
      "source": [
        "\n",
        "**Additional goal:**\n",
        "Implement another simple ranking logic, and compare the performance of both the production ranker and new ranking policy on the ndcg and three behavioral metrics.\n",
        "A simple ranking policy could include sortby track popularity, or sort by danceability score for the track.\n",
        "\n",
        "Please report the performance of these rankers on all four metrics."
      ]
    },
    {
      "cell_type": "code",
      "execution_count": 25,
      "id": "d58f54b2",
      "metadata": {},
      "outputs": [],
      "source": [
        "acousticness_features = [\n",
        "    \"beat_strength\",\n",
        "    \"bounciness\",\n",
        "    \"danceability\",\n",
        "    \"dyn_range_mean\",\n",
        "    \"energy\",\n",
        "    \"flatness\",\n",
        "    \"instrumentalness\",\n",
        "    \"key\",\n",
        "    \"liveness\",\n",
        "    \"loudness\",\n",
        "    \"mechanism\",\n",
        "    # \"mode\",\n",
        "    \"organism\",\n",
        "    \"speechiness\",\n",
        "    \"tempo\",\n",
        "    # \"time_signature\",\n",
        "    \"valence\",\n",
        "]\n",
        "\n",
        "\n",
        "mean_ac_feats = (\n",
        "    tracks[[\"track_id\", *acousticness_features]]\n",
        "    .set_index(\"track_id\")\n",
        "    .mean(axis=1)\n",
        "    .to_frame()\n",
        "    .rename({0: \"mean_ac_feat\"}, axis=1)\n",
        "    .reset_index()\n",
        ")\n",
        "mean_ac_feats_logs = pd.merge(\n",
        "    log, mean_ac_feats, left_on=\"track_id_clean\", right_on='track_id'\n",
        ")\n"
      ]
    },
    {
      "cell_type": "code",
      "execution_count": 26,
      "metadata": {},
      "outputs": [],
      "source": [
        "\"\"\"\n",
        "Ranking by average of acousticness features, and distance from mean of all selected songs in session\n",
        "\"\"\"\n",
        "\n",
        "\n",
        "def rank_by_well_roundedness(df):\n",
        "    avg_ac_feat = df[\"mean_ac_feat\"].mean()\n",
        "    df[\"well_rounded_position\"] = (\n",
        "        np.abs(avg_ac_feat - df[\"mean_ac_feat\"])\n",
        "        .reset_index(drop=True)\n",
        "        .sort_values()\n",
        "        .index\n",
        "    )\n",
        "    \n",
        "    return df\n",
        "\n",
        "\n",
        "re_ranked_df = mean_ac_feats_logs.groupby(\"session_id\").apply(rank_by_well_roundedness)"
      ]
    },
    {
      "cell_type": "code",
      "execution_count": 27,
      "id": "1fbbee21",
      "metadata": {},
      "outputs": [
        {
          "data": {
            "text/plain": [
              "19"
            ]
          },
          "execution_count": 27,
          "metadata": {},
          "output_type": "execute_result"
        }
      ],
      "source": [
        "re_ranked_df['well_rounded_position'].max()"
      ]
    },
    {
      "cell_type": "code",
      "execution_count": 28,
      "id": "6b518677-2ffd-4e9e-97cc-7de494ac8543",
      "metadata": {
        "id": "6b518677-2ffd-4e9e-97cc-7de494ac8543"
      },
      "outputs": [],
      "source": [
        "calced_metrics_well_rounded = [get_all_metrics(re_ranked_df, ac_tracks, k, position_feat='well_rounded_position') for k in [3, 5, 10, 15, 18]]"
      ]
    },
    {
      "cell_type": "code",
      "execution_count": 29,
      "id": "5a9bef72-0d7f-41c3-a36e-fa18dbc28b41",
      "metadata": {
        "id": "5a9bef72-0d7f-41c3-a36e-fa18dbc28b41"
      },
      "outputs": [
        {
          "data": {
            "text/html": [
              "<div>\n",
              "<style scoped>\n",
              "    .dataframe tbody tr th:only-of-type {\n",
              "        vertical-align: middle;\n",
              "    }\n",
              "\n",
              "    .dataframe tbody tr th {\n",
              "        vertical-align: top;\n",
              "    }\n",
              "\n",
              "    .dataframe thead th {\n",
              "        text-align: right;\n",
              "    }\n",
              "</style>\n",
              "<table border=\"1\" class=\"dataframe\">\n",
              "  <thead>\n",
              "    <tr style=\"text-align: right;\">\n",
              "      <th></th>\n",
              "      <th>ndcg</th>\n",
              "      <th>skip_rate</th>\n",
              "      <th>time_to_first_skip</th>\n",
              "      <th>sustained_dissatisfaction</th>\n",
              "      <th>average_similarity</th>\n",
              "    </tr>\n",
              "    <tr>\n",
              "      <th>k</th>\n",
              "      <th></th>\n",
              "      <th></th>\n",
              "      <th></th>\n",
              "      <th></th>\n",
              "      <th></th>\n",
              "    </tr>\n",
              "  </thead>\n",
              "  <tbody>\n",
              "    <tr>\n",
              "      <th>3</th>\n",
              "      <td>0.748436</td>\n",
              "      <td>0.416433</td>\n",
              "      <td>0.547531</td>\n",
              "      <td>0.1443</td>\n",
              "      <td>0.181354</td>\n",
              "    </tr>\n",
              "    <tr>\n",
              "      <th>5</th>\n",
              "      <td>0.789074</td>\n",
              "      <td>0.411980</td>\n",
              "      <td>0.913200</td>\n",
              "      <td>0.2390</td>\n",
              "      <td>0.185391</td>\n",
              "    </tr>\n",
              "    <tr>\n",
              "      <th>10</th>\n",
              "      <td>0.818592</td>\n",
              "      <td>0.411000</td>\n",
              "      <td>1.555556</td>\n",
              "      <td>0.3969</td>\n",
              "      <td>0.188303</td>\n",
              "    </tr>\n",
              "    <tr>\n",
              "      <th>15</th>\n",
              "      <td>0.829610</td>\n",
              "      <td>0.410325</td>\n",
              "      <td>1.831116</td>\n",
              "      <td>0.4642</td>\n",
              "      <td>0.189142</td>\n",
              "    </tr>\n",
              "    <tr>\n",
              "      <th>18</th>\n",
              "      <td>0.832518</td>\n",
              "      <td>0.410103</td>\n",
              "      <td>1.944764</td>\n",
              "      <td>0.4826</td>\n",
              "      <td>0.190062</td>\n",
              "    </tr>\n",
              "  </tbody>\n",
              "</table>\n",
              "</div>"
            ],
            "text/plain": [
              "        ndcg  skip_rate  time_to_first_skip  sustained_dissatisfaction  \\\n",
              "k                                                                        \n",
              "3   0.748436   0.416433            0.547531                     0.1443   \n",
              "5   0.789074   0.411980            0.913200                     0.2390   \n",
              "10  0.818592   0.411000            1.555556                     0.3969   \n",
              "15  0.829610   0.410325            1.831116                     0.4642   \n",
              "18  0.832518   0.410103            1.944764                     0.4826   \n",
              "\n",
              "    average_similarity  \n",
              "k                       \n",
              "3             0.181354  \n",
              "5             0.185391  \n",
              "10            0.188303  \n",
              "15            0.189142  \n",
              "18            0.190062  "
            ]
          },
          "execution_count": 29,
          "metadata": {},
          "output_type": "execute_result"
        }
      ],
      "source": [
        "calced_well_rounded_df = pd.concat(calced_metrics_well_rounded, axis= 1).T\n",
        "calced_well_rounded_df['k'] = calced_well_rounded_df['k'].astype(int)\n",
        "calced_well_rounded_df.set_index('k', inplace = True)\n",
        "calced_well_rounded_df"
      ]
    },
    {
      "cell_type": "code",
      "execution_count": 31,
      "id": "9e0768f1",
      "metadata": {},
      "outputs": [
        {
          "data": {
            "text/html": [
              "<div>\n",
              "<style scoped>\n",
              "    .dataframe tbody tr th:only-of-type {\n",
              "        vertical-align: middle;\n",
              "    }\n",
              "\n",
              "    .dataframe tbody tr th {\n",
              "        vertical-align: top;\n",
              "    }\n",
              "\n",
              "    .dataframe thead th {\n",
              "        text-align: right;\n",
              "    }\n",
              "</style>\n",
              "<table border=\"1\" class=\"dataframe\">\n",
              "  <thead>\n",
              "    <tr style=\"text-align: right;\">\n",
              "      <th></th>\n",
              "      <th>ndcg</th>\n",
              "      <th>skip_rate</th>\n",
              "      <th>time_to_first_skip</th>\n",
              "      <th>sustained_dissatisfaction</th>\n",
              "      <th>average_similarity</th>\n",
              "    </tr>\n",
              "    <tr>\n",
              "      <th>k</th>\n",
              "      <th></th>\n",
              "      <th></th>\n",
              "      <th></th>\n",
              "      <th></th>\n",
              "      <th></th>\n",
              "    </tr>\n",
              "  </thead>\n",
              "  <tbody>\n",
              "    <tr>\n",
              "      <th>3</th>\n",
              "      <td>0.808053</td>\n",
              "      <td>0.340933</td>\n",
              "      <td>1.753933</td>\n",
              "      <td>0.1389</td>\n",
              "      <td>0.175065</td>\n",
              "    </tr>\n",
              "    <tr>\n",
              "      <th>5</th>\n",
              "      <td>0.823570</td>\n",
              "      <td>0.377500</td>\n",
              "      <td>2.326147</td>\n",
              "      <td>0.2964</td>\n",
              "      <td>0.176586</td>\n",
              "    </tr>\n",
              "    <tr>\n",
              "      <th>10</th>\n",
              "      <td>0.833027</td>\n",
              "      <td>0.408940</td>\n",
              "      <td>3.304565</td>\n",
              "      <td>0.5238</td>\n",
              "      <td>0.182588</td>\n",
              "    </tr>\n",
              "    <tr>\n",
              "      <th>15</th>\n",
              "      <td>0.833890</td>\n",
              "      <td>0.411178</td>\n",
              "      <td>3.739285</td>\n",
              "      <td>0.6164</td>\n",
              "      <td>0.187245</td>\n",
              "    </tr>\n",
              "    <tr>\n",
              "      <th>18</th>\n",
              "      <td>0.834113</td>\n",
              "      <td>0.410847</td>\n",
              "      <td>3.890418</td>\n",
              "      <td>0.6417</td>\n",
              "      <td>0.189020</td>\n",
              "    </tr>\n",
              "  </tbody>\n",
              "</table>\n",
              "</div>"
            ],
            "text/plain": [
              "        ndcg  skip_rate  time_to_first_skip  sustained_dissatisfaction  \\\n",
              "k                                                                        \n",
              "3   0.808053   0.340933            1.753933                     0.1389   \n",
              "5   0.823570   0.377500            2.326147                     0.2964   \n",
              "10  0.833027   0.408940            3.304565                     0.5238   \n",
              "15  0.833890   0.411178            3.739285                     0.6164   \n",
              "18  0.834113   0.410847            3.890418                     0.6417   \n",
              "\n",
              "    average_similarity  \n",
              "k                       \n",
              "3             0.175065  \n",
              "5             0.176586  \n",
              "10            0.182588  \n",
              "15            0.187245  \n",
              "18            0.189020  "
            ]
          },
          "execution_count": 31,
          "metadata": {},
          "output_type": "execute_result"
        }
      ],
      "source": [
        "calced_metrics_df"
      ]
    },
    {
      "cell_type": "code",
      "execution_count": 30,
      "id": "8cd9ae14-8a5e-4fc7-b69b-ed9279021422",
      "metadata": {
        "id": "8cd9ae14-8a5e-4fc7-b69b-ed9279021422"
      },
      "outputs": [
        {
          "data": {
            "text/html": [
              "<div>\n",
              "<style scoped>\n",
              "    .dataframe tbody tr th:only-of-type {\n",
              "        vertical-align: middle;\n",
              "    }\n",
              "\n",
              "    .dataframe tbody tr th {\n",
              "        vertical-align: top;\n",
              "    }\n",
              "\n",
              "    .dataframe thead th {\n",
              "        text-align: right;\n",
              "    }\n",
              "</style>\n",
              "<table border=\"1\" class=\"dataframe\">\n",
              "  <thead>\n",
              "    <tr style=\"text-align: right;\">\n",
              "      <th></th>\n",
              "      <th>ndcg</th>\n",
              "      <th>skip_rate</th>\n",
              "      <th>time_to_first_skip</th>\n",
              "      <th>sustained_dissatisfaction</th>\n",
              "      <th>average_similarity</th>\n",
              "    </tr>\n",
              "    <tr>\n",
              "      <th>k</th>\n",
              "      <th></th>\n",
              "      <th></th>\n",
              "      <th></th>\n",
              "      <th></th>\n",
              "      <th></th>\n",
              "    </tr>\n",
              "  </thead>\n",
              "  <tbody>\n",
              "    <tr>\n",
              "      <th>3</th>\n",
              "      <td>0.059617</td>\n",
              "      <td>-0.075500</td>\n",
              "      <td>1.206402</td>\n",
              "      <td>-0.0054</td>\n",
              "      <td>-0.006289</td>\n",
              "    </tr>\n",
              "    <tr>\n",
              "      <th>5</th>\n",
              "      <td>0.034496</td>\n",
              "      <td>-0.034480</td>\n",
              "      <td>1.412947</td>\n",
              "      <td>0.0574</td>\n",
              "      <td>-0.008805</td>\n",
              "    </tr>\n",
              "    <tr>\n",
              "      <th>10</th>\n",
              "      <td>0.014435</td>\n",
              "      <td>-0.002060</td>\n",
              "      <td>1.749009</td>\n",
              "      <td>0.1269</td>\n",
              "      <td>-0.005715</td>\n",
              "    </tr>\n",
              "    <tr>\n",
              "      <th>15</th>\n",
              "      <td>0.004280</td>\n",
              "      <td>0.000853</td>\n",
              "      <td>1.908169</td>\n",
              "      <td>0.1522</td>\n",
              "      <td>-0.001897</td>\n",
              "    </tr>\n",
              "    <tr>\n",
              "      <th>18</th>\n",
              "      <td>0.001595</td>\n",
              "      <td>0.000744</td>\n",
              "      <td>1.945655</td>\n",
              "      <td>0.1591</td>\n",
              "      <td>-0.001042</td>\n",
              "    </tr>\n",
              "  </tbody>\n",
              "</table>\n",
              "</div>"
            ],
            "text/plain": [
              "        ndcg  skip_rate  time_to_first_skip  sustained_dissatisfaction  \\\n",
              "k                                                                        \n",
              "3   0.059617  -0.075500            1.206402                    -0.0054   \n",
              "5   0.034496  -0.034480            1.412947                     0.0574   \n",
              "10  0.014435  -0.002060            1.749009                     0.1269   \n",
              "15  0.004280   0.000853            1.908169                     0.1522   \n",
              "18  0.001595   0.000744            1.945655                     0.1591   \n",
              "\n",
              "    average_similarity  \n",
              "k                       \n",
              "3            -0.006289  \n",
              "5            -0.008805  \n",
              "10           -0.005715  \n",
              "15           -0.001897  \n",
              "18           -0.001042  "
            ]
          },
          "execution_count": 30,
          "metadata": {},
          "output_type": "execute_result"
        }
      ],
      "source": [
        "calced_metrics_df - calced_well_rounded_df"
      ]
    },
    {
      "cell_type": "markdown",
      "id": "85bdfa17",
      "metadata": {},
      "source": [
        "The original ranker has a performs btter in time to first skip, and also ndcg, but worse in average similarity!"
      ]
    },
    {
      "cell_type": "markdown",
      "id": "b7e4812d-3b39-4def-a293-7da0297f32a1",
      "metadata": {
        "id": "b7e4812d-3b39-4def-a293-7da0297f32a1"
      },
      "source": [
        "# Part B: Off Policy Evaluation\n",
        "\n",
        "We log listener behavior based on the recommendations that the production recommender serves to the listener. Using this data to assess any new recommender system, however, can present challenges – the production recommender and the new recommender can drastically differ in the results that they display to the user. For example, maybe the new recommender presents a lot of niche content, while the production recommender presents a lot of popular options. This can be an issue when evaluating a new recommender – If you don’t have any feedback on a recommendation because you never presented it to a user, how can you evaluate whether it’s a good recommendation?\n",
        "If you have a new policy to test that’s very similar to your old approach, then this won’t be an issue, and it’ll be easy to test! However, if the policy is very different, then you’ll need to collect special logged data.\n",
        "\n",
        "In this part of the project, we will simulate a recommendation policy and leverage counterfactual estimators as metrics to compare performance.\n"
      ]
    },
    {
      "cell_type": "markdown",
      "id": "16ddd6a0-4481-4221-a36d-577276d8b728",
      "metadata": {
        "id": "16ddd6a0-4481-4221-a36d-577276d8b728"
      },
      "source": [
        "Lets first begin by generating a few users and products. For ease of simulation, we assume users derive equal satisfaction from each item."
      ]
    },
    {
      "cell_type": "code",
      "execution_count": 47,
      "id": "539cfda5-98eb-415c-a98b-ccb9acc22031",
      "metadata": {
        "id": "539cfda5-98eb-415c-a98b-ccb9acc22031"
      },
      "outputs": [],
      "source": [
        "\n",
        "users = np.array([\"user1\", \"user2\", \"user3\"])\n",
        "products = np.array(\n",
        "    [\n",
        "        \"product_a\",\n",
        "        \"product_b\",\n",
        "        \"product_c\",\n",
        "        \"product_d\",\n",
        "        \"product_e\",\n",
        "        \"product_f\",\n",
        "        \"product_g\",\n",
        "    ]\n",
        ")\n",
        "\n",
        "satisfaction = {\n",
        "    \"product_a\": 100,\n",
        "    \"product_b\": 150,\n",
        "    \"product_c\": 100,\n",
        "    \"product_d\": 200,\n",
        "    \"product_e\": 500,\n",
        "    \"product_f\": 120,\n",
        "    \"product_g\": 160,\n",
        "}\n",
        "\n"
      ]
    },
    {
      "cell_type": "markdown",
      "id": "1a77fd2c-7586-4ea5-9e28-67d6f3050bab",
      "metadata": {
        "id": "1a77fd2c-7586-4ea5-9e28-67d6f3050bab"
      },
      "source": [
        "Lets also implement whether a given user will accept a given recommendation or not. Once done, we can implement a target policy that makes recommendations."
      ]
    },
    {
      "cell_type": "code",
      "execution_count": 48,
      "id": "fd59b6ef-5d27-47b5-8b39-8adfd8eae51d",
      "metadata": {
        "id": "fd59b6ef-5d27-47b5-8b39-8adfd8eae51d"
      },
      "outputs": [],
      "source": [
        "\n",
        "def will_purchase(user, product):\n",
        "    if user == \"user1\" and (\n",
        "        product == \"product_a\" or product == \"product_b\" or product == \"product_c\"\n",
        "    ):\n",
        "        return True\n",
        "    elif user == \"user2\" and (product == \"product_d\" or product == \"product_e\"):\n",
        "        return True\n",
        "    elif user == \"user3\" and (product == \"product_f\" or product == \"product_g\"):\n",
        "        return True\n",
        "    else:\n",
        "        return False\n",
        "\n",
        "\n",
        "def choose_user():\n",
        "    return np.random.choice(users, size=1)\n",
        "\n",
        "\n",
        "def logging_policy():\n",
        "    return np.random.choice(products, size=1), 1 / len(products)\n",
        "\n",
        "\n",
        "class TargetPolicy:\n",
        "    def __init__(self):\n",
        "        self.user_probs = {\n",
        "            \"user1\": np.array([0.1, 0.1, 0.2, 0.1, 0.15, 0.15, 0.20]),\n",
        "            \"user2\": np.array([0.1, 0.10, 0.05, 0.25, 0.3, 0.1, 0.1]),\n",
        "            \"user3\": np.array([0.06, 0.06, 0.3, 0.06, 0.06, 0.4, 0.06]),\n",
        "        }\n",
        "\n",
        "        for user, probs in self.user_probs.items():\n",
        "            assert probs.sum() == 1\n",
        "            assert len(probs) == len(products)\n",
        "\n",
        "    def recommend(self, user):\n",
        "        user_prob = self.user_probs[user]\n",
        "        product = np.random.choice(products, size=1, p=user_prob)\n",
        "        product_idx = np.where(products == product)\n",
        "        prob = user_prob[product_idx]\n",
        "\n",
        "        return product, prob\n",
        "\n",
        "    def get_prob(self, user, product):\n",
        "        user_prob = self.user_probs[user]\n",
        "        product_idx = np.where(products == product)\n",
        "        product_prob = user_prob[product_idx]\n",
        "\n",
        "        return product_prob\n",
        "\n"
      ]
    },
    {
      "cell_type": "markdown",
      "id": "b0d1d10d-a993-42fb-a26c-106a46001719",
      "metadata": {
        "id": "b0d1d10d-a993-42fb-a26c-106a46001719"
      },
      "source": [
        "Having defined all key components of the dataset generation, lets create logged data that we can finally use for evaluation purposes:"
      ]
    },
    {
      "cell_type": "code",
      "execution_count": 49,
      "id": "e78f2bd2-5ad1-4b9e-87b5-abad2b3098a2",
      "metadata": {
        "id": "e78f2bd2-5ad1-4b9e-87b5-abad2b3098a2"
      },
      "outputs": [],
      "source": [
        "def compute_satisfaction(user, product):\n",
        "    if will_purchase(user, product):\n",
        "        return satisfaction[product.item()]\n",
        "    else:\n",
        "        return 0\n",
        "\n",
        "\n",
        "def create_logs(n=1000):\n",
        "    logs = []\n",
        "    target_policy = TargetPolicy()\n",
        "\n",
        "    for _ in range(n):\n",
        "        user = choose_user()\n",
        "\n",
        "        logging_product, logging_prob = logging_policy()\n",
        "        model_prob = target_policy.get_prob(user.item(), logging_product)\n",
        "\n",
        "        target_product, _ = target_policy.recommend(user.item())\n",
        "\n",
        "        logging_satisfaction = compute_satisfaction(user, logging_product)\n",
        "        target_satisfaction = compute_satisfaction(user, target_product)\n",
        "\n",
        "        log = OrderedDict(\n",
        "            {\n",
        "                \"user_features\": user.item(),\n",
        "                \"item_placed\": logging_product.item(),\n",
        "                \"item_prob\": logging_prob,\n",
        "                \"item_satisfaction\": logging_satisfaction,\n",
        "                \"model_prob\": model_prob.item(),\n",
        "                \"ab_test_satisfaction\": target_satisfaction,\n",
        "            }\n",
        "        )\n",
        "\n",
        "        logs.append(log)\n",
        "\n",
        "    return pd.DataFrame(logs)"
      ]
    },
    {
      "cell_type": "markdown",
      "id": "bf3731a5-75ba-4522-889a-a3bdba5d46dc",
      "metadata": {
        "id": "bf3731a5-75ba-4522-889a-a3bdba5d46dc"
      },
      "source": [
        "Here is what ur logged data now looks like:"
      ]
    },
    {
      "cell_type": "code",
      "execution_count": 50,
      "id": "4ff18b51-9484-4e15-9f73-c8950343fac9",
      "metadata": {
        "id": "4ff18b51-9484-4e15-9f73-c8950343fac9",
        "outputId": "28d44554-8f97-47e3-d1e0-1592fdd87bdc"
      },
      "outputs": [
        {
          "data": {
            "text/html": [
              "<div>\n",
              "<style scoped>\n",
              "    .dataframe tbody tr th:only-of-type {\n",
              "        vertical-align: middle;\n",
              "    }\n",
              "\n",
              "    .dataframe tbody tr th {\n",
              "        vertical-align: top;\n",
              "    }\n",
              "\n",
              "    .dataframe thead th {\n",
              "        text-align: right;\n",
              "    }\n",
              "</style>\n",
              "<table border=\"1\" class=\"dataframe\">\n",
              "  <thead>\n",
              "    <tr style=\"text-align: right;\">\n",
              "      <th></th>\n",
              "      <th>user_features</th>\n",
              "      <th>item_placed</th>\n",
              "      <th>item_prob</th>\n",
              "      <th>item_satisfaction</th>\n",
              "      <th>model_prob</th>\n",
              "      <th>ab_test_satisfaction</th>\n",
              "    </tr>\n",
              "  </thead>\n",
              "  <tbody>\n",
              "    <tr>\n",
              "      <th>0</th>\n",
              "      <td>user3</td>\n",
              "      <td>product_a</td>\n",
              "      <td>0.142857</td>\n",
              "      <td>0</td>\n",
              "      <td>0.06</td>\n",
              "      <td>120</td>\n",
              "    </tr>\n",
              "    <tr>\n",
              "      <th>1</th>\n",
              "      <td>user3</td>\n",
              "      <td>product_f</td>\n",
              "      <td>0.142857</td>\n",
              "      <td>120</td>\n",
              "      <td>0.40</td>\n",
              "      <td>120</td>\n",
              "    </tr>\n",
              "    <tr>\n",
              "      <th>2</th>\n",
              "      <td>user1</td>\n",
              "      <td>product_g</td>\n",
              "      <td>0.142857</td>\n",
              "      <td>0</td>\n",
              "      <td>0.20</td>\n",
              "      <td>0</td>\n",
              "    </tr>\n",
              "    <tr>\n",
              "      <th>3</th>\n",
              "      <td>user3</td>\n",
              "      <td>product_d</td>\n",
              "      <td>0.142857</td>\n",
              "      <td>0</td>\n",
              "      <td>0.06</td>\n",
              "      <td>120</td>\n",
              "    </tr>\n",
              "    <tr>\n",
              "      <th>4</th>\n",
              "      <td>user2</td>\n",
              "      <td>product_b</td>\n",
              "      <td>0.142857</td>\n",
              "      <td>0</td>\n",
              "      <td>0.10</td>\n",
              "      <td>500</td>\n",
              "    </tr>\n",
              "  </tbody>\n",
              "</table>\n",
              "</div>"
            ],
            "text/plain": [
              "  user_features item_placed  item_prob  item_satisfaction  model_prob  \\\n",
              "0         user3   product_a   0.142857                  0        0.06   \n",
              "1         user3   product_f   0.142857                120        0.40   \n",
              "2         user1   product_g   0.142857                  0        0.20   \n",
              "3         user3   product_d   0.142857                  0        0.06   \n",
              "4         user2   product_b   0.142857                  0        0.10   \n",
              "\n",
              "   ab_test_satisfaction  \n",
              "0                   120  \n",
              "1                   120  \n",
              "2                     0  \n",
              "3                   120  \n",
              "4                   500  "
            ]
          },
          "execution_count": 50,
          "metadata": {},
          "output_type": "execute_result"
        }
      ],
      "source": [
        "logs = create_logs(n=1000)\n",
        "logs.head(5)"
      ]
    },
    {
      "cell_type": "code",
      "execution_count": 51,
      "id": "6030ee25-943c-4c1e-8031-f780506830f5",
      "metadata": {
        "id": "6030ee25-943c-4c1e-8031-f780506830f5",
        "outputId": "afabb68a-8445-41f7-fd2c-e32653c6de31"
      },
      "outputs": [
        {
          "data": {
            "text/html": [
              "<div>\n",
              "<style scoped>\n",
              "    .dataframe tbody tr th:only-of-type {\n",
              "        vertical-align: middle;\n",
              "    }\n",
              "\n",
              "    .dataframe tbody tr th {\n",
              "        vertical-align: top;\n",
              "    }\n",
              "\n",
              "    .dataframe thead th {\n",
              "        text-align: right;\n",
              "    }\n",
              "</style>\n",
              "<table border=\"1\" class=\"dataframe\">\n",
              "  <thead>\n",
              "    <tr style=\"text-align: right;\">\n",
              "      <th></th>\n",
              "      <th>user_features</th>\n",
              "      <th>item_placed</th>\n",
              "      <th>item_prob</th>\n",
              "      <th>item_satisfaction</th>\n",
              "    </tr>\n",
              "  </thead>\n",
              "  <tbody>\n",
              "    <tr>\n",
              "      <th>822</th>\n",
              "      <td>user2</td>\n",
              "      <td>product_c</td>\n",
              "      <td>0.142857</td>\n",
              "      <td>0</td>\n",
              "    </tr>\n",
              "    <tr>\n",
              "      <th>304</th>\n",
              "      <td>user3</td>\n",
              "      <td>product_c</td>\n",
              "      <td>0.142857</td>\n",
              "      <td>0</td>\n",
              "    </tr>\n",
              "    <tr>\n",
              "      <th>264</th>\n",
              "      <td>user2</td>\n",
              "      <td>product_a</td>\n",
              "      <td>0.142857</td>\n",
              "      <td>0</td>\n",
              "    </tr>\n",
              "    <tr>\n",
              "      <th>14</th>\n",
              "      <td>user1</td>\n",
              "      <td>product_e</td>\n",
              "      <td>0.142857</td>\n",
              "      <td>0</td>\n",
              "    </tr>\n",
              "    <tr>\n",
              "      <th>569</th>\n",
              "      <td>user1</td>\n",
              "      <td>product_e</td>\n",
              "      <td>0.142857</td>\n",
              "      <td>0</td>\n",
              "    </tr>\n",
              "    <tr>\n",
              "      <th>421</th>\n",
              "      <td>user2</td>\n",
              "      <td>product_c</td>\n",
              "      <td>0.142857</td>\n",
              "      <td>0</td>\n",
              "    </tr>\n",
              "    <tr>\n",
              "      <th>511</th>\n",
              "      <td>user3</td>\n",
              "      <td>product_c</td>\n",
              "      <td>0.142857</td>\n",
              "      <td>0</td>\n",
              "    </tr>\n",
              "    <tr>\n",
              "      <th>651</th>\n",
              "      <td>user2</td>\n",
              "      <td>product_d</td>\n",
              "      <td>0.142857</td>\n",
              "      <td>200</td>\n",
              "    </tr>\n",
              "    <tr>\n",
              "      <th>460</th>\n",
              "      <td>user3</td>\n",
              "      <td>product_c</td>\n",
              "      <td>0.142857</td>\n",
              "      <td>0</td>\n",
              "    </tr>\n",
              "    <tr>\n",
              "      <th>727</th>\n",
              "      <td>user3</td>\n",
              "      <td>product_g</td>\n",
              "      <td>0.142857</td>\n",
              "      <td>160</td>\n",
              "    </tr>\n",
              "  </tbody>\n",
              "</table>\n",
              "</div>"
            ],
            "text/plain": [
              "    user_features item_placed  item_prob  item_satisfaction\n",
              "822         user2   product_c   0.142857                  0\n",
              "304         user3   product_c   0.142857                  0\n",
              "264         user2   product_a   0.142857                  0\n",
              "14          user1   product_e   0.142857                  0\n",
              "569         user1   product_e   0.142857                  0\n",
              "421         user2   product_c   0.142857                  0\n",
              "511         user3   product_c   0.142857                  0\n",
              "651         user2   product_d   0.142857                200\n",
              "460         user3   product_c   0.142857                  0\n",
              "727         user3   product_g   0.142857                160"
            ]
          },
          "execution_count": 51,
          "metadata": {},
          "output_type": "execute_result"
        }
      ],
      "source": [
        "logs[[\"user_features\", \"item_placed\", \"item_prob\", \"item_satisfaction\"]].sample(n=10)"
      ]
    },
    {
      "cell_type": "markdown",
      "id": "cc6a4c42-467f-4dfd-8e75-3d58a9c77781",
      "metadata": {
        "id": "cc6a4c42-467f-4dfd-8e75-3d58a9c77781"
      },
      "source": [
        "With all the dataset ready, lets compute the mean rewards (satisfaction) for the logging/production policy and the target policy:"
      ]
    },
    {
      "cell_type": "code",
      "execution_count": 52,
      "id": "082465c7-b149-40ac-aa40-a44116d2a7bf",
      "metadata": {
        "id": "082465c7-b149-40ac-aa40-a44116d2a7bf",
        "outputId": "e994b6fe-1015-47b9-8e02-95d38750d445"
      },
      "outputs": [
        {
          "name": "stdout",
          "output_type": "stream",
          "text": [
            "Expected reward from logging policy:  62.66\n",
            "Expected reward from target policy:  100.36\n",
            "CPU times: user 10.5 s, sys: 36 ms, total: 10.5 s\n",
            "Wall time: 10.5 s\n"
          ]
        }
      ],
      "source": [
        "%%time\n",
        "sim = create_logs(n=100000)\n",
        "logging_policy = sim[\"item_satisfaction\"].mean()\n",
        "target_policy = sim[\"ab_test_satisfaction\"].mean()\n",
        "\n",
        "print(f\"Expected reward from logging policy: {logging_policy: .2f}\")\n",
        "print(f\"Expected reward from target policy: {target_policy: .2f}\")"
      ]
    },
    {
      "cell_type": "markdown",
      "id": "37a954a7-a0ea-4bec-9d60-3ec0ea549f40",
      "metadata": {
        "id": "37a954a7-a0ea-4bec-9d60-3ec0ea549f40"
      },
      "source": [
        "Now lets implement the IPS estimator:"
      ]
    },
    {
      "cell_type": "code",
      "execution_count": 65,
      "id": "14d1c5dc-8954-4ff6-9b96-7a49076d062a",
      "metadata": {
        "id": "14d1c5dc-8954-4ff6-9b96-7a49076d062a"
      },
      "outputs": [],
      "source": [
        "def compute_ips(df):\n",
        "    assert {\"model_prob\", \"item_prob\", \"item_satisfaction\"}.issubset(df.columns)\n",
        "    return (df[\"model_prob\"] / df[\"item_prob\"] * df[\"item_satisfaction\"]).mean()"
      ]
    },
    {
      "cell_type": "code",
      "execution_count": 66,
      "id": "f574b73d-38b7-4504-addc-47fd23839d40",
      "metadata": {
        "id": "f574b73d-38b7-4504-addc-47fd23839d40",
        "outputId": "f1a24741-5edd-490b-88b3-e4154fc239d1"
      },
      "outputs": [
        {
          "data": {
            "text/plain": [
              "124.25"
            ]
          },
          "execution_count": 66,
          "metadata": {},
          "output_type": "execute_result"
        }
      ],
      "source": [
        "ips_est = compute_ips(logs)\n",
        "ips_est"
      ]
    },
    {
      "cell_type": "markdown",
      "id": "8d2a93e4-0e1d-45e1-846f-d7fd73bfb9de",
      "metadata": {
        "id": "8d2a93e4-0e1d-45e1-846f-d7fd73bfb9de"
      },
      "source": [
        "Computing the IPS estimator on our 1,000 entry log gives an average revenue of 109.34 (very close to the true performance of 100.99) compared with the average revenue of the logging policy of 63.36. Therefore, we should be confident to deploy our target policy to production and do an AB test comparing it with the logging policy as a final validation."
      ]
    },
    {
      "cell_type": "markdown",
      "id": "ce6d30c6-7684-47d6-a65c-523138f5ee5a",
      "metadata": {
        "id": "ce6d30c6-7684-47d6-a65c-523138f5ee5a"
      },
      "source": [
        "## Goals for this part of project:\n",
        "\n",
        "Finish the implementation of two additional off-policy estimators:\n",
        "1. Capped IPS\n",
        "2. Normalized Capped Importance Sampling (NCIS)\n",
        "\n",
        "Feel free to try different capping thresholds, and compare the reward and standard deviations of these estimators with the IPS estimator and mean reward.\n"
      ]
    },
    {
      "cell_type": "code",
      "execution_count": 61,
      "id": "5ec2fbc1-4b2d-4984-bc83-34d47cb067b4",
      "metadata": {
        "id": "5ec2fbc1-4b2d-4984-bc83-34d47cb067b4"
      },
      "outputs": [
        {
          "data": {
            "text/plain": [
              "120.8"
            ]
          },
          "execution_count": 61,
          "metadata": {},
          "output_type": "execute_result"
        }
      ],
      "source": [
        "def compute_capped_ips(logs, cap=1000):\n",
        "    return (\n",
        "        (logs[\"model_prob\"] / logs[\"item_prob\"] * logs[\"item_satisfaction\"])\n",
        "        .apply(lambda x: min(x, cap))\n",
        "        .mean()\n",
        "    )\n",
        "compute_capped_ips(logs)"
      ]
    },
    {
      "cell_type": "code",
      "execution_count": 96,
      "id": "e4b03cee-1438-4f1f-a170-4b535979b231",
      "metadata": {
        "id": "e4b03cee-1438-4f1f-a170-4b535979b231"
      },
      "outputs": [
        {
          "data": {
            "text/plain": [
              "116.79961324631377"
            ]
          },
          "execution_count": 96,
          "metadata": {},
          "output_type": "execute_result"
        }
      ],
      "source": [
        "def compute_ncis(logs, cap=1000):\n",
        "    return compute_capped_ips(logs, cap) / (logs['model_prob'] / logs['item_prob']).apply(lambda x: min(x, cap)).mean()\n",
        "compute_ncis(logs)"
      ]
    },
    {
      "cell_type": "code",
      "execution_count": 90,
      "id": "71d73b93",
      "metadata": {},
      "outputs": [],
      "source": [
        "test_grid = np.geomspace(10, 1000, num=20, endpoint=True).astype(int)\n",
        "\n",
        "test_results = pd.DataFrame(\n",
        "    {\n",
        "        \"cap\": test_grid,\n",
        "        \"capped_ips\": [compute_capped_ips(logs, t) for t in test_grid],\n",
        "        \"ncis\": [compute_ncis(logs, t) for t in test_grid],\n",
        "    }\n",
        ")\n"
      ]
    },
    {
      "cell_type": "code",
      "execution_count": 111,
      "id": "d31946d5",
      "metadata": {},
      "outputs": [
        {
          "data": {
            "image/png": "[encoded data removed]",
            "text/plain": [
              "<Figure size 432x288 with 1 Axes>"
            ]
          },
          "metadata": {
            "needs_background": "light"
          },
          "output_type": "display_data"
        }
      ],
      "source": [
        "plt.plot(test_results['cap'], test_results['capped_ips'], marker = 'o', label='capped_ips')\n",
        "plt.plot(test_results['cap'], test_results['ncis'], marker = 'o', label='ncis')\n",
        "plt.hlines(y=target_policy, xmin =0, xmax = 1000, color = 'red', linestyle='--', label = 'true_perf')\n",
        "plt.hlines(y=ips_est, xmin =0, xmax = 1000, color = 'purple', linestyle='-.', label = 'ips')\n",
        "plt.title('Mean Reward by cap threshold')\n",
        "plt.xlabel('Cap Threshold')\n",
        "plt.ylabel('Mean Reward')\n",
        "plt.legend();"
      ]
    },
    {
      "cell_type": "markdown",
      "id": "c9ef533a",
      "metadata": {},
      "source": [
        "As seen in the plot above, given the right cap, we can tune the mean reward by adjusting our cap to be very close to the true performance."
      ]
    }
  ],
  "metadata": {
    "colab": {
      "include_colab_link": true,
      "name": "week4-evaluation.ipynb",
      "provenance": []
    },
    "environment": {
      "kernel": "python3",
      "name": "tf2-gpu.2-6.m89",
      "type": "gcloud",
      "uri": "gcr.io/deeplearning-platform-release/tf2-gpu.2-6:m89"
    },
    "kernelspec": {
      "display_name": "Python 3.10.4 (conda)",
      "language": "python",
      "name": "python3"
    },
    "language_info": {
      "codemirror_mode": {
        "name": "ipython",
        "version": 3
      },
      "file_extension": ".py",
      "mimetype": "text/x-python",
      "name": "python",
      "nbconvert_exporter": "python",
      "pygments_lexer": "ipython3",
      "version": "3.10.4"
    },
    "vscode": {
      "interpreter": {
        "hash": "b7b60bf8229cffb6b13881ed997dc81f2f4b667ad177f7972862a2e068416561"
      }
    }
  },
  "nbformat": 4,
  "nbformat_minor": 5
}
